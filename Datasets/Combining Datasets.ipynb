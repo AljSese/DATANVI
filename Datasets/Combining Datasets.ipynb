{
 "cells": [
  {
   "cell_type": "markdown",
   "metadata": {},
   "source": [
    "# Importing Necessary Libraries\n",
    "\n",
    "\n",
    "## What are libraries?\n",
    "\n",
    "These are precoded modules that can help you code faster. It allows you to do things better and faster."
   ]
  },
  {
   "cell_type": "code",
   "execution_count": 1,
   "metadata": {},
   "outputs": [],
   "source": [
    "import pandas as pd\n",
    "import numpy as np\n",
    "from datetime import datetime"
   ]
  },
  {
   "cell_type": "markdown",
   "metadata": {},
   "source": [
    "# Begin with the End in Mind\n",
    "\n",
    "## What do we want to do?\n",
    "\n",
    "Lets say that we are provided different files and we need to consolidate the different datasets.\n",
    "\n",
    "Usual flow is :\n",
    "\n",
    "    1) Inspect if possible - excel or other software\n",
    "    2) What is the data type?\n",
    "    3) What are the available columns? \n",
    "    4) Are they of the same type?\n",
    "\n",
    "## PseudoCode\n",
    "\n",
    "    1) Read all files\n",
    "    2) Check datatypes\n",
    "    3) Apply Necessary Changes\n",
    "    4) Combine all\n",
    "    \n",
    "   "
   ]
  },
  {
   "cell_type": "code",
   "execution_count": 3,
   "metadata": {},
   "outputs": [],
   "source": [
    "# Drugstore A\n",
    "df_drugstore_a = pd.read_parquet('./Drugstore A.parquet')"
   ]
  },
  {
   "cell_type": "code",
   "execution_count": 5,
   "metadata": {},
   "outputs": [
    {
     "data": {
      "text/plain": [
       "(262875, 4)"
      ]
     },
     "execution_count": 5,
     "metadata": {},
     "output_type": "execute_result"
    }
   ],
   "source": [
    "df_drugstore_a.shape"
   ]
  },
  {
   "cell_type": "code",
   "execution_count": 7,
   "metadata": {},
   "outputs": [
    {
     "data": {
      "text/plain": [
       "Date           object\n",
       "Medicine       object\n",
       "Sales         float64\n",
       "Drugstores     object\n",
       "dtype: object"
      ]
     },
     "execution_count": 7,
     "metadata": {},
     "output_type": "execute_result"
    }
   ],
   "source": [
    "df_drugstore_a.dtypes"
   ]
  },
  {
   "cell_type": "code",
   "execution_count": 9,
   "metadata": {},
   "outputs": [],
   "source": [
    "df_drugstore_a['Date'] = pd.to_datetime(df_drugstore_a['Date'])"
   ]
  },
  {
   "cell_type": "code",
   "execution_count": 10,
   "metadata": {},
   "outputs": [
    {
     "data": {
      "text/plain": [
       "Date          datetime64[ns]\n",
       "Medicine              object\n",
       "Sales                float64\n",
       "Drugstores            object\n",
       "dtype: object"
      ]
     },
     "execution_count": 10,
     "metadata": {},
     "output_type": "execute_result"
    }
   ],
   "source": [
    "df_drugstore_a.dtypes"
   ]
  },
  {
   "cell_type": "code",
   "execution_count": 13,
   "metadata": {},
   "outputs": [
    {
     "data": {
      "text/html": [
       "<div>\n",
       "<style scoped>\n",
       "    .dataframe tbody tr th:only-of-type {\n",
       "        vertical-align: middle;\n",
       "    }\n",
       "\n",
       "    .dataframe tbody tr th {\n",
       "        vertical-align: top;\n",
       "    }\n",
       "\n",
       "    .dataframe thead th {\n",
       "        text-align: right;\n",
       "    }\n",
       "</style>\n",
       "<table border=\"1\" class=\"dataframe\">\n",
       "  <thead>\n",
       "    <tr style=\"text-align: right;\">\n",
       "      <th></th>\n",
       "      <th>Date</th>\n",
       "      <th>Medicine</th>\n",
       "      <th>Sales</th>\n",
       "      <th>Drugstores</th>\n",
       "    </tr>\n",
       "  </thead>\n",
       "  <tbody>\n",
       "    <tr>\n",
       "      <th>0</th>\n",
       "      <td>1388660400000000000</td>\n",
       "      <td>M01AB</td>\n",
       "      <td>0.0</td>\n",
       "      <td>Drugstore B</td>\n",
       "    </tr>\n",
       "    <tr>\n",
       "      <th>1</th>\n",
       "      <td>1388664000000000000</td>\n",
       "      <td>M01AB</td>\n",
       "      <td>0.0</td>\n",
       "      <td>Drugstore B</td>\n",
       "    </tr>\n",
       "    <tr>\n",
       "      <th>2</th>\n",
       "      <td>1388667600000000000</td>\n",
       "      <td>M01AB</td>\n",
       "      <td>0.0</td>\n",
       "      <td>Drugstore B</td>\n",
       "    </tr>\n",
       "    <tr>\n",
       "      <th>3</th>\n",
       "      <td>1388685600000000000</td>\n",
       "      <td>M01AB</td>\n",
       "      <td>0.0</td>\n",
       "      <td>Drugstore B</td>\n",
       "    </tr>\n",
       "    <tr>\n",
       "      <th>4</th>\n",
       "      <td>1388732400000000000</td>\n",
       "      <td>M01AB</td>\n",
       "      <td>0.0</td>\n",
       "      <td>Drugstore B</td>\n",
       "    </tr>\n",
       "    <tr>\n",
       "      <th>...</th>\n",
       "      <td>...</td>\n",
       "      <td>...</td>\n",
       "      <td>...</td>\n",
       "      <td>...</td>\n",
       "    </tr>\n",
       "    <tr>\n",
       "      <th>60611</th>\n",
       "      <td>1570334400000000000</td>\n",
       "      <td>R06</td>\n",
       "      <td>0.0</td>\n",
       "      <td>Drugstore B</td>\n",
       "    </tr>\n",
       "    <tr>\n",
       "      <th>60612</th>\n",
       "      <td>1570370400000000000</td>\n",
       "      <td>R06</td>\n",
       "      <td>0.0</td>\n",
       "      <td>Drugstore B</td>\n",
       "    </tr>\n",
       "    <tr>\n",
       "      <th>60613</th>\n",
       "      <td>1570496400000000000</td>\n",
       "      <td>R06</td>\n",
       "      <td>0.0</td>\n",
       "      <td>Drugstore B</td>\n",
       "    </tr>\n",
       "    <tr>\n",
       "      <th>60614</th>\n",
       "      <td>1570510800000000000</td>\n",
       "      <td>R06</td>\n",
       "      <td>0.0</td>\n",
       "      <td>Drugstore B</td>\n",
       "    </tr>\n",
       "    <tr>\n",
       "      <th>60615</th>\n",
       "      <td>1570518000000000000</td>\n",
       "      <td>R06</td>\n",
       "      <td>0.0</td>\n",
       "      <td>Drugstore B</td>\n",
       "    </tr>\n",
       "  </tbody>\n",
       "</table>\n",
       "<p>60616 rows × 4 columns</p>\n",
       "</div>"
      ],
      "text/plain": [
       "                      Date Medicine  Sales   Drugstores\n",
       "0      1388660400000000000    M01AB    0.0  Drugstore B\n",
       "1      1388664000000000000    M01AB    0.0  Drugstore B\n",
       "2      1388667600000000000    M01AB    0.0  Drugstore B\n",
       "3      1388685600000000000    M01AB    0.0  Drugstore B\n",
       "4      1388732400000000000    M01AB    0.0  Drugstore B\n",
       "...                    ...      ...    ...          ...\n",
       "60611  1570334400000000000      R06    0.0  Drugstore B\n",
       "60612  1570370400000000000      R06    0.0  Drugstore B\n",
       "60613  1570496400000000000      R06    0.0  Drugstore B\n",
       "60614  1570510800000000000      R06    0.0  Drugstore B\n",
       "60615  1570518000000000000      R06    0.0  Drugstore B\n",
       "\n",
       "[60616 rows x 4 columns]"
      ]
     },
     "execution_count": 13,
     "metadata": {},
     "output_type": "execute_result"
    }
   ],
   "source": [
    "# Method 1:\n",
    "# Datetypes can be set using this code\n",
    "\n",
    "df_drugstore_b = pd.read_csv('./Drugstore B.csv' ,dtype={'Date': 'str',\n",
    "                                                 'Medicine':'str',\n",
    "                                                 'Sales':'float',\n",
    "                                                 'Drugstores' : 'str'}, parse_dates=['Date'])\n",
    "\n",
    "df_drugstore_b"
   ]
  },
  {
   "cell_type": "code",
   "execution_count": 15,
   "metadata": {},
   "outputs": [
    {
     "data": {
      "text/plain": [
       "Date           object\n",
       "Medicine       object\n",
       "Sales         float64\n",
       "Drugstores     object\n",
       "dtype: object"
      ]
     },
     "execution_count": 15,
     "metadata": {},
     "output_type": "execute_result"
    }
   ],
   "source": [
    "df_drugstore_b.dtypes"
   ]
  },
  {
   "cell_type": "code",
   "execution_count": 17,
   "metadata": {},
   "outputs": [],
   "source": [
    "df_drugstore_b = pd.read_csv('./Drugstore B.csv' ,dtype={'Date': 'str',\n",
    "                                                 'Medicine':'str',\n",
    "                                                 'Sales':'float',\n",
    "                                                 'Drugstores' : 'str'})"
   ]
  },
  {
   "cell_type": "code",
   "execution_count": 19,
   "metadata": {},
   "outputs": [
    {
     "data": {
      "text/plain": [
       "0         1/2/2014 11:00\n",
       "1         1/2/2014 12:00\n",
       "2         1/2/2014 13:00\n",
       "3         1/2/2014 18:00\n",
       "4          1/3/2014 7:00\n",
       "              ...       \n",
       "60611     10/6/2019 4:00\n",
       "60612    10/6/2019 14:00\n",
       "60613     10/8/2019 1:00\n",
       "60614     10/8/2019 5:00\n",
       "60615     10/8/2019 7:00\n",
       "Name: Date, Length: 60616, dtype: object"
      ]
     },
     "execution_count": 19,
     "metadata": {},
     "output_type": "execute_result"
    }
   ],
   "source": [
    "df_drugstore_b['Date']"
   ]
  },
  {
   "cell_type": "code",
   "execution_count": 21,
   "metadata": {},
   "outputs": [
    {
     "data": {
      "text/plain": [
       "Date          datetime64[ns]\n",
       "Medicine              object\n",
       "Sales                float64\n",
       "Drugstores            object\n",
       "dtype: object"
      ]
     },
     "execution_count": 21,
     "metadata": {},
     "output_type": "execute_result"
    }
   ],
   "source": [
    "df_drugstore_b['Date'] = pd.to_datetime(df_drugstore_b['Date'])\n",
    "\n",
    "df_drugstore_b.dtypes"
   ]
  },
  {
   "cell_type": "code",
   "execution_count": 23,
   "metadata": {},
   "outputs": [],
   "source": [
    "# Drugstore C\n",
    "\n",
    "df_drugstore_c = pd.read_excel('./Drugstore C.xlsx',\n",
    "                               sheet_name='Complete Sheet',\n",
    "                               skiprows = 2)"
   ]
  },
  {
   "cell_type": "code",
   "execution_count": 24,
   "metadata": {
    "scrolled": true
   },
   "outputs": [
    {
     "data": {
      "text/plain": [
       "Date           object\n",
       "Medicine       object\n",
       "Sales         float64\n",
       "Drugstores     object\n",
       "dtype: object"
      ]
     },
     "execution_count": 24,
     "metadata": {},
     "output_type": "execute_result"
    }
   ],
   "source": [
    "df_drugstore_c.dtypes"
   ]
  },
  {
   "cell_type": "code",
   "execution_count": 27,
   "metadata": {},
   "outputs": [],
   "source": [
    "df_drugstore_c['Date'] = pd.to_datetime(df_drugstore_c['Date'])"
   ]
  },
  {
   "cell_type": "code",
   "execution_count": 29,
   "metadata": {},
   "outputs": [
    {
     "data": {
      "text/plain": [
       "Date          datetime64[ns]\n",
       "Medicine              object\n",
       "Sales                float64\n",
       "Drugstores            object\n",
       "dtype: object"
      ]
     },
     "execution_count": 29,
     "metadata": {},
     "output_type": "execute_result"
    }
   ],
   "source": [
    "df_drugstore_c.dtypes"
   ]
  },
  {
   "cell_type": "code",
   "execution_count": 31,
   "metadata": {},
   "outputs": [],
   "source": [
    "# Appending"
   ]
  },
  {
   "cell_type": "code",
   "execution_count": 33,
   "metadata": {},
   "outputs": [
    {
     "data": {
      "text/html": [
       "<div>\n",
       "<style scoped>\n",
       "    .dataframe tbody tr th:only-of-type {\n",
       "        vertical-align: middle;\n",
       "    }\n",
       "\n",
       "    .dataframe tbody tr th {\n",
       "        vertical-align: top;\n",
       "    }\n",
       "\n",
       "    .dataframe thead th {\n",
       "        text-align: right;\n",
       "    }\n",
       "</style>\n",
       "<table border=\"1\" class=\"dataframe\">\n",
       "  <thead>\n",
       "    <tr style=\"text-align: right;\">\n",
       "      <th></th>\n",
       "      <th>Date</th>\n",
       "      <th>Medicine</th>\n",
       "      <th>Sales</th>\n",
       "      <th>Drugstores</th>\n",
       "    </tr>\n",
       "  </thead>\n",
       "  <tbody>\n",
       "    <tr>\n",
       "      <th>0</th>\n",
       "      <td>2014-01-02 08:00:00</td>\n",
       "      <td>M01AB</td>\n",
       "      <td>0.0</td>\n",
       "      <td>Drugstore C</td>\n",
       "    </tr>\n",
       "    <tr>\n",
       "      <th>1</th>\n",
       "      <td>2014-01-02 09:00:00</td>\n",
       "      <td>M01AB</td>\n",
       "      <td>0.0</td>\n",
       "      <td>Drugstore C</td>\n",
       "    </tr>\n",
       "    <tr>\n",
       "      <th>2</th>\n",
       "      <td>2014-01-02 16:00:00</td>\n",
       "      <td>M01AB</td>\n",
       "      <td>0.0</td>\n",
       "      <td>Drugstore C</td>\n",
       "    </tr>\n",
       "    <tr>\n",
       "      <th>3</th>\n",
       "      <td>2014-01-02 17:00:00</td>\n",
       "      <td>M01AB</td>\n",
       "      <td>0.0</td>\n",
       "      <td>Drugstore C</td>\n",
       "    </tr>\n",
       "    <tr>\n",
       "      <th>4</th>\n",
       "      <td>2014-01-02 21:00:00</td>\n",
       "      <td>M01AB</td>\n",
       "      <td>0.0</td>\n",
       "      <td>Drugstore C</td>\n",
       "    </tr>\n",
       "    <tr>\n",
       "      <th>...</th>\n",
       "      <td>...</td>\n",
       "      <td>...</td>\n",
       "      <td>...</td>\n",
       "      <td>...</td>\n",
       "    </tr>\n",
       "    <tr>\n",
       "      <th>80760</th>\n",
       "      <td>2019-10-08 04:00:00</td>\n",
       "      <td>R06</td>\n",
       "      <td>0.0</td>\n",
       "      <td>Drugstore C</td>\n",
       "    </tr>\n",
       "    <tr>\n",
       "      <th>80761</th>\n",
       "      <td>2019-10-08 06:00:00</td>\n",
       "      <td>R06</td>\n",
       "      <td>0.0</td>\n",
       "      <td>Drugstore C</td>\n",
       "    </tr>\n",
       "    <tr>\n",
       "      <th>80762</th>\n",
       "      <td>2019-10-08 17:00:00</td>\n",
       "      <td>R06</td>\n",
       "      <td>0.0</td>\n",
       "      <td>Drugstore C</td>\n",
       "    </tr>\n",
       "    <tr>\n",
       "      <th>80763</th>\n",
       "      <td>2019-10-08 18:00:00</td>\n",
       "      <td>R06</td>\n",
       "      <td>0.0</td>\n",
       "      <td>Drugstore C</td>\n",
       "    </tr>\n",
       "    <tr>\n",
       "      <th>80764</th>\n",
       "      <td>2019-10-08 19:00:00</td>\n",
       "      <td>R06</td>\n",
       "      <td>0.0</td>\n",
       "      <td>Drugstore C</td>\n",
       "    </tr>\n",
       "  </tbody>\n",
       "</table>\n",
       "<p>80765 rows × 4 columns</p>\n",
       "</div>"
      ],
      "text/plain": [
       "                     Date Medicine  Sales   Drugstores\n",
       "0     2014-01-02 08:00:00    M01AB    0.0  Drugstore C\n",
       "1     2014-01-02 09:00:00    M01AB    0.0  Drugstore C\n",
       "2     2014-01-02 16:00:00    M01AB    0.0  Drugstore C\n",
       "3     2014-01-02 17:00:00    M01AB    0.0  Drugstore C\n",
       "4     2014-01-02 21:00:00    M01AB    0.0  Drugstore C\n",
       "...                   ...      ...    ...          ...\n",
       "80760 2019-10-08 04:00:00      R06    0.0  Drugstore C\n",
       "80761 2019-10-08 06:00:00      R06    0.0  Drugstore C\n",
       "80762 2019-10-08 17:00:00      R06    0.0  Drugstore C\n",
       "80763 2019-10-08 18:00:00      R06    0.0  Drugstore C\n",
       "80764 2019-10-08 19:00:00      R06    0.0  Drugstore C\n",
       "\n",
       "[80765 rows x 4 columns]"
      ]
     },
     "execution_count": 33,
     "metadata": {},
     "output_type": "execute_result"
    }
   ],
   "source": [
    "df_drugstore_a\n",
    "df_drugstore_b\n",
    "df_drugstore_c"
   ]
  },
  {
   "cell_type": "code",
   "execution_count": 35,
   "metadata": {},
   "outputs": [
    {
     "ename": "AttributeError",
     "evalue": "'DataFrame' object has no attribute 'append'",
     "output_type": "error",
     "traceback": [
      "\u001b[1;31m---------------------------------------------------------------------------\u001b[0m",
      "\u001b[1;31mAttributeError\u001b[0m                            Traceback (most recent call last)",
      "\u001b[1;32m~\\AppData\\Local\\Temp\\ipykernel_15516\\1833017595.py\u001b[0m in \u001b[0;36m?\u001b[1;34m()\u001b[0m\n\u001b[0;32m      1\u001b[0m \u001b[1;31m# Method a\u001b[0m\u001b[1;33m\u001b[0m\u001b[1;33m\u001b[0m\u001b[0m\n\u001b[0;32m      2\u001b[0m \u001b[1;33m\u001b[0m\u001b[0m\n\u001b[1;32m----> 3\u001b[1;33m \u001b[0mdf_final_method_a\u001b[0m \u001b[1;33m=\u001b[0m \u001b[0mdf_drugstore_b\u001b[0m\u001b[1;33m.\u001b[0m\u001b[0mappend\u001b[0m\u001b[1;33m(\u001b[0m\u001b[0mdf_drugstore_a\u001b[0m\u001b[1;33m)\u001b[0m\u001b[1;33m.\u001b[0m\u001b[0mappend\u001b[0m\u001b[1;33m(\u001b[0m\u001b[0mdf_drugstore_c\u001b[0m\u001b[1;33m)\u001b[0m\u001b[1;33m\u001b[0m\u001b[1;33m\u001b[0m\u001b[0m\n\u001b[0m",
      "\u001b[1;32m~\\anaconda3\\Lib\\site-packages\\pandas\\core\\generic.py\u001b[0m in \u001b[0;36m?\u001b[1;34m(self, name)\u001b[0m\n\u001b[0;32m   6295\u001b[0m             \u001b[1;32mand\u001b[0m \u001b[0mname\u001b[0m \u001b[1;32mnot\u001b[0m \u001b[1;32min\u001b[0m \u001b[0mself\u001b[0m\u001b[1;33m.\u001b[0m\u001b[0m_accessors\u001b[0m\u001b[1;33m\u001b[0m\u001b[1;33m\u001b[0m\u001b[0m\n\u001b[0;32m   6296\u001b[0m             \u001b[1;32mand\u001b[0m \u001b[0mself\u001b[0m\u001b[1;33m.\u001b[0m\u001b[0m_info_axis\u001b[0m\u001b[1;33m.\u001b[0m\u001b[0m_can_hold_identifiers_and_holds_name\u001b[0m\u001b[1;33m(\u001b[0m\u001b[0mname\u001b[0m\u001b[1;33m)\u001b[0m\u001b[1;33m\u001b[0m\u001b[1;33m\u001b[0m\u001b[0m\n\u001b[0;32m   6297\u001b[0m         \u001b[1;33m)\u001b[0m\u001b[1;33m:\u001b[0m\u001b[1;33m\u001b[0m\u001b[1;33m\u001b[0m\u001b[0m\n\u001b[0;32m   6298\u001b[0m             \u001b[1;32mreturn\u001b[0m \u001b[0mself\u001b[0m\u001b[1;33m[\u001b[0m\u001b[0mname\u001b[0m\u001b[1;33m]\u001b[0m\u001b[1;33m\u001b[0m\u001b[1;33m\u001b[0m\u001b[0m\n\u001b[1;32m-> 6299\u001b[1;33m         \u001b[1;32mreturn\u001b[0m \u001b[0mobject\u001b[0m\u001b[1;33m.\u001b[0m\u001b[0m__getattribute__\u001b[0m\u001b[1;33m(\u001b[0m\u001b[0mself\u001b[0m\u001b[1;33m,\u001b[0m \u001b[0mname\u001b[0m\u001b[1;33m)\u001b[0m\u001b[1;33m\u001b[0m\u001b[1;33m\u001b[0m\u001b[0m\n\u001b[0m",
      "\u001b[1;31mAttributeError\u001b[0m: 'DataFrame' object has no attribute 'append'"
     ]
    }
   ],
   "source": [
    "# Method a\n",
    "\n",
    "df_final_method_a = df_drugstore_b.append(df_drugstore_a).append(df_drugstore_c)"
   ]
  },
  {
   "cell_type": "code",
   "execution_count": null,
   "metadata": {},
   "outputs": [],
   "source": [
    "pd.concat([df_drugstore_a,df_drugstore_b,df_drugstore_c])"
   ]
  },
  {
   "cell_type": "code",
   "execution_count": null,
   "metadata": {},
   "outputs": [],
   "source": []
  },
  {
   "cell_type": "code",
   "execution_count": null,
   "metadata": {},
   "outputs": [],
   "source": [
    "# Method b\n",
    "\n",
    "df_final_method_b = pd.concat([df_drugstore_a,df_drugstore_b,df_drugstore_c])"
   ]
  },
  {
   "cell_type": "code",
   "execution_count": null,
   "metadata": {},
   "outputs": [],
   "source": [
    "df_final_method_b.to_csv('./combined data.csv')"
   ]
  },
  {
   "cell_type": "code",
   "execution_count": null,
   "metadata": {},
   "outputs": [],
   "source": [
    "df_final_method_b.to_excel('./combined data.xlsx')"
   ]
  }
 ],
 "metadata": {
  "kernelspec": {
   "display_name": "Python [conda env:base] *",
   "language": "python",
   "name": "conda-base-py"
  },
  "language_info": {
   "codemirror_mode": {
    "name": "ipython",
    "version": 3
   },
   "file_extension": ".py",
   "mimetype": "text/x-python",
   "name": "python",
   "nbconvert_exporter": "python",
   "pygments_lexer": "ipython3",
   "version": "3.12.7"
  },
  "toc": {
   "base_numbering": 1,
   "nav_menu": {},
   "number_sections": true,
   "sideBar": true,
   "skip_h1_title": false,
   "title_cell": "Table of Contents",
   "title_sidebar": "Contents",
   "toc_cell": false,
   "toc_position": {},
   "toc_section_display": true,
   "toc_window_display": false
  }
 },
 "nbformat": 4,
 "nbformat_minor": 4
}
